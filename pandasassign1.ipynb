{
 "cells": [
  {
   "cell_type": "markdown",
   "id": "c16572b7-527c-42b8-838e-c55bc9464791",
   "metadata": {},
   "source": [
    "Q1. Create a Pandas Series that contains the following data: 4, 8, 15, 16, 23, and 42. Then, print the series."
   ]
  },
  {
   "cell_type": "code",
   "execution_count": 1,
   "id": "d3b0bb91-0990-429e-a114-f41646935cd2",
   "metadata": {},
   "outputs": [
    {
     "name": "stdout",
     "output_type": "stream",
     "text": [
      "0     4\n",
      "1     8\n",
      "2    15\n",
      "3    16\n",
      "4    23\n",
      "5    42\n",
      "dtype: object\n",
      "<class 'pandas.core.series.Series'>\n"
     ]
    }
   ],
   "source": [
    "import pandas as pd\n",
    "# Create list with above no. elements\n",
    "my_list=['4','8','15','16','23','42']\n",
    "# Convert List into pandas Series\n",
    "my_series=pd.Series(my_list)\n",
    "# print the resulting series\n",
    "print(my_series)\n",
    "# print the type of resulting series\n",
    "print(type(my_series))\n"
   ]
  },
  {
   "cell_type": "markdown",
   "id": "8eb4b525-4ed0-47fd-a37a-f39feab2ac93",
   "metadata": {},
   "source": [
    "Q2. Create a variable of list type containing 10 elements in it, and apply pandas.Series function on the\n",
    "variable print it."
   ]
  },
  {
   "cell_type": "code",
   "execution_count": 22,
   "id": "cf7496bf-612e-4036-be3a-ac6277551e1b",
   "metadata": {},
   "outputs": [
    {
     "name": "stdout",
     "output_type": "stream",
     "text": [
      "0     1\n",
      "1     2\n",
      "2     3\n",
      "3     4\n",
      "4     5\n",
      "5     6\n",
      "6     7\n",
      "7     8\n",
      "8     9\n",
      "9    10\n",
      "dtype: int64\n"
     ]
    }
   ],
   "source": [
    "# Create list with 10 elements\n",
    "my_list=[1,2,3,4,5,6,7,8,9,10]\n",
    "# Convert List into pandas Series\n",
    "my_series=pd.Series(my_list)\n",
    "# print the resulting series\n",
    "print(my_series)"
   ]
  },
  {
   "cell_type": "markdown",
   "id": "32e457c9-b2a4-4409-a835-417f9b8b3d85",
   "metadata": {},
   "source": [
    "Q3. Create a Pandas DataFrame that contains the following data"
   ]
  },
  {
   "cell_type": "code",
   "execution_count": null,
   "id": "2a782962-439c-455b-a4cd-0351545c2402",
   "metadata": {},
   "outputs": [],
   "source": [
    "import pandas as pd\n",
    "d={'name':['Alice','Bob','Claire'],\n",
    "    'Age':['25','30','27'],\n",
    "    'Gender':['Female','Male','Female']}\n",
    "print(d)\n",
    "df1=pd.DataFrame(d)\n",
    "print(df1)\n",
    "print(type(df1))"
   ]
  },
  {
   "cell_type": "markdown",
   "id": "1c248eef-86b1-42c7-9ebd-3da93cbb3748",
   "metadata": {},
   "source": [
    "Q4. What is ‘DataFrame’ in pandas and how is it different from pandas.series? Explain with an example."
   ]
  },
  {
   "cell_type": "code",
   "execution_count": null,
   "id": "38158632-798a-4b43-a6da-e85549b74c1d",
   "metadata": {},
   "outputs": [],
   "source": [
    "Ans:-\n",
    "It is the tabular structured data.DataFrame is nothing but record means (rows & columns).\n",
    "\n",
    "     name Age  Gender\n",
    "0   Alice  25  Female\n",
    "1     Bob  30    Male\n",
    "2  Claire  27  Female\n",
    "dtype: object\n",
    "<class 'pandas.core.frame.DataFrame'>\n",
    "\n",
    "Series is also tabular structured but it is list\n",
    "0     4\n",
    "1     8\n",
    "2    15\n",
    "3    16\n",
    "4    23\n",
    "5    42\n",
    "dtype: object\n",
    "<class 'pandas.core.series.Series'>\n"
   ]
  },
  {
   "cell_type": "markdown",
   "id": "961d0fe2-61e6-4acd-b72b-53946fc257d4",
   "metadata": {},
   "source": [
    "Q5. What are some common functions you can use to manipulate data in a Pandas DataFrame? Can\n",
    "you give an example of when you might use one of these functions?"
   ]
  },
  {
   "cell_type": "code",
   "execution_count": 5,
   "id": "6f3e1e58-ee48-420a-b5c4-c62ca010df45",
   "metadata": {},
   "outputs": [],
   "source": [
    "import pandas as pd"
   ]
  },
  {
   "cell_type": "code",
   "execution_count": 12,
   "id": "a6c5e82a-2778-4350-a62f-1341ea4ed13c",
   "metadata": {},
   "outputs": [
    {
     "data": {
      "text/html": [
       "<div>\n",
       "<style scoped>\n",
       "    .dataframe tbody tr th:only-of-type {\n",
       "        vertical-align: middle;\n",
       "    }\n",
       "\n",
       "    .dataframe tbody tr th {\n",
       "        vertical-align: top;\n",
       "    }\n",
       "\n",
       "    .dataframe thead th {\n",
       "        text-align: right;\n",
       "    }\n",
       "</style>\n",
       "<table border=\"1\" class=\"dataframe\">\n",
       "  <thead>\n",
       "    <tr style=\"text-align: right;\">\n",
       "      <th></th>\n",
       "      <th>Id</th>\n",
       "      <th>SepalLengthCm</th>\n",
       "      <th>SepalWidthCm</th>\n",
       "      <th>PetalLengthCm</th>\n",
       "      <th>PetalWidthCm</th>\n",
       "      <th>Species</th>\n",
       "    </tr>\n",
       "  </thead>\n",
       "  <tbody>\n",
       "    <tr>\n",
       "      <th>0</th>\n",
       "      <td>1</td>\n",
       "      <td>5.1</td>\n",
       "      <td>3.5</td>\n",
       "      <td>1.4</td>\n",
       "      <td>0.2</td>\n",
       "      <td>Iris-setosa</td>\n",
       "    </tr>\n",
       "    <tr>\n",
       "      <th>1</th>\n",
       "      <td>2</td>\n",
       "      <td>4.9</td>\n",
       "      <td>3.0</td>\n",
       "      <td>1.4</td>\n",
       "      <td>0.2</td>\n",
       "      <td>Iris-setosa</td>\n",
       "    </tr>\n",
       "  </tbody>\n",
       "</table>\n",
       "</div>"
      ],
      "text/plain": [
       "   Id  SepalLengthCm  SepalWidthCm  PetalLengthCm  PetalWidthCm      Species\n",
       "0   1            5.1           3.5            1.4           0.2  Iris-setosa\n",
       "1   2            4.9           3.0            1.4           0.2  Iris-setosa"
      ]
     },
     "execution_count": 12,
     "metadata": {},
     "output_type": "execute_result"
    }
   ],
   "source": [
    "df=pd.read_csv('Iris.csv')\n",
    "df.head(2)"
   ]
  },
  {
   "cell_type": "code",
   "execution_count": 16,
   "id": "4b4160a7-533c-4e21-a7c4-c3e02b6fad91",
   "metadata": {},
   "outputs": [
    {
     "data": {
      "text/plain": [
       "Id   SepalLengthCm  SepalWidthCm  PetalLengthCm  PetalWidthCm  Species        \n",
       "1    5.1            3.5           1.4            0.2           Iris-setosa        1\n",
       "95   5.6            2.7           4.2            1.3           Iris-versicolor    1\n",
       "97   5.7            2.9           4.2            1.3           Iris-versicolor    1\n",
       "98   6.2            2.9           4.3            1.3           Iris-versicolor    1\n",
       "99   5.1            2.5           3.0            1.1           Iris-versicolor    1\n",
       "                                                                                 ..\n",
       "51   7.0            3.2           4.7            1.4           Iris-versicolor    1\n",
       "52   6.4            3.2           4.5            1.5           Iris-versicolor    1\n",
       "53   6.9            3.1           4.9            1.5           Iris-versicolor    1\n",
       "54   5.5            2.3           4.0            1.3           Iris-versicolor    1\n",
       "150  5.9            3.0           5.1            1.8           Iris-virginica     1\n",
       "Length: 150, dtype: int64"
      ]
     },
     "execution_count": 16,
     "metadata": {},
     "output_type": "execute_result"
    }
   ],
   "source": [
    "df.value_counts()"
   ]
  },
  {
   "cell_type": "code",
   "execution_count": 13,
   "id": "60a70433-af07-4bc1-8657-43576b5173d1",
   "metadata": {},
   "outputs": [
    {
     "data": {
      "text/html": [
       "<div>\n",
       "<style scoped>\n",
       "    .dataframe tbody tr th:only-of-type {\n",
       "        vertical-align: middle;\n",
       "    }\n",
       "\n",
       "    .dataframe tbody tr th {\n",
       "        vertical-align: top;\n",
       "    }\n",
       "\n",
       "    .dataframe thead th {\n",
       "        text-align: right;\n",
       "    }\n",
       "</style>\n",
       "<table border=\"1\" class=\"dataframe\">\n",
       "  <thead>\n",
       "    <tr style=\"text-align: right;\">\n",
       "      <th></th>\n",
       "      <th>Id</th>\n",
       "      <th>SepalLengthCm</th>\n",
       "      <th>SepalWidthCm</th>\n",
       "      <th>PetalLengthCm</th>\n",
       "      <th>PetalWidthCm</th>\n",
       "      <th>Species</th>\n",
       "    </tr>\n",
       "  </thead>\n",
       "  <tbody>\n",
       "    <tr>\n",
       "      <th>148</th>\n",
       "      <td>149</td>\n",
       "      <td>6.2</td>\n",
       "      <td>3.4</td>\n",
       "      <td>5.4</td>\n",
       "      <td>2.3</td>\n",
       "      <td>Iris-virginica</td>\n",
       "    </tr>\n",
       "    <tr>\n",
       "      <th>149</th>\n",
       "      <td>150</td>\n",
       "      <td>5.9</td>\n",
       "      <td>3.0</td>\n",
       "      <td>5.1</td>\n",
       "      <td>1.8</td>\n",
       "      <td>Iris-virginica</td>\n",
       "    </tr>\n",
       "  </tbody>\n",
       "</table>\n",
       "</div>"
      ],
      "text/plain": [
       "      Id  SepalLengthCm  SepalWidthCm  PetalLengthCm  PetalWidthCm  \\\n",
       "148  149            6.2           3.4            5.4           2.3   \n",
       "149  150            5.9           3.0            5.1           1.8   \n",
       "\n",
       "            Species  \n",
       "148  Iris-virginica  \n",
       "149  Iris-virginica  "
      ]
     },
     "execution_count": 13,
     "metadata": {},
     "output_type": "execute_result"
    }
   ],
   "source": [
    "df.tail(2)"
   ]
  },
  {
   "cell_type": "markdown",
   "id": "236c8754-c5df-411e-8b73-4cd26ca16b36",
   "metadata": {},
   "source": [
    "functions we can use to manipulate data in a Pandas DataFrame\n",
    "i.read_csv\n",
    "ii.head(),tail()\n",
    "iii.isnull().sum()/isnull.fillna()\n",
    "iv.describe()\n",
    "v.info()\n",
    "vi.value_counts()\n",
    "vii.drop()\n",
    "viii.rename()\n",
    "x.dropna()\n",
    "----etc.\n",
    "\n"
   ]
  },
  {
   "cell_type": "markdown",
   "id": "9dc9cc33-f907-45e3-93b0-09f4ad2dddfe",
   "metadata": {},
   "source": [
    "Q6. Which of the following is mutable in nature Series, DataFrame, Panel?"
   ]
  },
  {
   "cell_type": "code",
   "execution_count": null,
   "id": "ab97ca90-41e9-4825-bd42-a4e728bb2538",
   "metadata": {},
   "outputs": [],
   "source": [
    "Ans:-\n",
    "Series-->1-dimentional array .Mutuable in nature.\n",
    "Dataframe--->2-dimentional array.Mutuable in nature.\n",
    "Panel---->3-dimentional array .mutuable  in nature."
   ]
  },
  {
   "cell_type": "markdown",
   "id": "95e049ad-aee2-43a3-a6cb-d227c6a81523",
   "metadata": {},
   "source": [
    "Q7. Create a DataFrame using multiple Series. Explain with an example."
   ]
  },
  {
   "cell_type": "code",
   "execution_count": 21,
   "id": "29e1ecc8-f6b3-4d0c-9631-bba9e9a507ea",
   "metadata": {},
   "outputs": [
    {
     "name": "stdout",
     "output_type": "stream",
     "text": [
      "     name Age                        Job\n",
      "0  Sameer  22             Data Scientist\n",
      "1   Rahil  23  Machine Learning Engineer\n",
      "2    John  26          Software Engineer\n"
     ]
    }
   ],
   "source": [
    "d={'name':['Sameer','Rahil','John'],\n",
    "   'Age':['22','23','26'],\n",
    "   'Job':['Data Scientist','Machine Learning Engineer','Software Engineer']}\n",
    "df1=pd.DataFrame(d)\n",
    "print(df1)"
   ]
  },
  {
   "cell_type": "code",
   "execution_count": null,
   "id": "a86d19eb-60be-486c-8580-54559e8a8678",
   "metadata": {},
   "outputs": [],
   "source": []
  }
 ],
 "metadata": {
  "kernelspec": {
   "display_name": "Python 3 (ipykernel)",
   "language": "python",
   "name": "python3"
  },
  "language_info": {
   "codemirror_mode": {
    "name": "ipython",
    "version": 3
   },
   "file_extension": ".py",
   "mimetype": "text/x-python",
   "name": "python",
   "nbconvert_exporter": "python",
   "pygments_lexer": "ipython3",
   "version": "3.10.8"
  }
 },
 "nbformat": 4,
 "nbformat_minor": 5
}
